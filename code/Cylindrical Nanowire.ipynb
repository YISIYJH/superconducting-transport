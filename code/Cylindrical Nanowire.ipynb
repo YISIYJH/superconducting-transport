{
 "cells": [
  {
   "cell_type": "markdown",
   "metadata": {},
   "source": [
    "# Cylindrical Nanowire\n",
    "I will use this notebook to model a cylindrical nanowire with $N_\\phi$ points in $\\phi$ direction and $N_z$ points along the z direction.\n",
    "\n",
    "- BdG Hamiltonian will be used to incorporate superconductivity.\n",
    "\n",
    "- An axial magnetic field will be assumed.\n",
    "\n",
    "- Spin-orbit coupling and Zeeman splitting will be neglected."
   ]
  },
  {
   "cell_type": "code",
   "execution_count": 1,
   "metadata": {
    "collapsed": true
   },
   "outputs": [],
   "source": [
    "import numpy as np\n",
    "import matplotlib.pyplot as plt\n",
    "%matplotlib inline\n",
    "\n",
    "import itertools\n",
    "import scipy.optimize"
   ]
  },
  {
   "cell_type": "markdown",
   "metadata": {},
   "source": [
    "# Define the Hamiltonian\n",
    "The Hamiltonian will be a matrix of size $N_\\phi N_z \\times N_\\phi N_z$. The order parameter and the chemical potential will be assumed to be constant in this region."
   ]
  },
  {
   "cell_type": "code",
   "execution_count": 6,
   "metadata": {
    "collapsed": true
   },
   "outputs": [],
   "source": [
    "def calc_Hamiltonian(params):\n",
    "    '''\n",
    "    params is a dict with the following paramters:\n",
    "    N_z   : number of points in z \n",
    "    N_phi : number of points in azimuthal direction\n",
    "    t_z   : hopping paramter along z = hbar**2/(2 m a**2) where a is lattice spacing\n",
    "    t_phi : hopping paramter along phi = hbar**2/(2 m a_phi**2) where a_phi is lattice spacing along \n",
    "            azimuthal direction \n",
    "    Delta : order paramter (complex number)\n",
    "    mu    : chemical potential\n",
    "    flux  : flux in units of h/e\n",
    "    '''\n",
    "    N_z = params['N_z'] \n",
    "    N_phi = params['N_phi'] \n",
    "    t_z = params['t_z']\n",
    "    t_phi = params['t_phi']\n",
    "    Delta = params['Delta']\n",
    "    mu = params['mu']\n",
    "    flux = params['flux']\n",
    "    \n",
    "    def matrix_ele(e1,e2):\n",
    "        '''\n",
    "        Returns the matrix element between points e1 and e2\n",
    "        '''\n",
    "        (z1,phi1) = e1\n",
    "        (z2,phi2) = e2\n",
    "        # onsite element\n",
    "        if z1 == z2 and phi1 == phi2:\n",
    "            diag_ele = 2*t_z + np.abs(t_phi)*(2 - (2*np.pi*flux/N_phi)**2) - mu\n",
    "            return np.array([[diag_ele,Delta],[np.conj(Delta),-np.conj(diag_ele)]])\n",
    "        # z hopping\n",
    "        elif abs(z1-z2) == 1 and phi1 == phi2:\n",
    "            return np.array([[-t_z,0],[0,t_z]])\n",
    "        # phi hopping\n",
    "        elif (phi1-phi2 == 1 or phi1-phi2 == N_phi-1)and z1 == z2:\n",
    "            return np.array([[-t_phi,0],[0,np.conj(t_phi)]])\n",
    "        elif (phi1-phi2 == -1 or phi1-phi2 == -N_phi+1)and z1 == z2:\n",
    "            return np.conj(np.array([[-t_phi,0],[0,np.conj(t_phi)]])).T\n",
    "        else:\n",
    "            return np.array([[0,0],[0,0]])\n",
    "        \n",
    "    # the basis is given by (n_z,n_phi) where n_z = 0,..,N_z-1, n_phi = 0,...,N_phi-1\n",
    "    basis = list(itertools.product(range(N_z),range(N_phi)))\n",
    "    H = [matrix_ele(e1,e2) for e1 in basis for e2 in basis]\n",
    "    N = N_phi*N_z\n",
    "\n",
    "    H_ar = np.array(H,dtype=np.complex64).reshape((N,N,2,2))\n",
    "    \n",
    "    # magic to flatten the Hamiltonian\n",
    "    # Are you wathing closely?\n",
    "    H_mat = np.array([H_ar[x,:,y,:].flatten() for x in range(H_ar.shape[0]) for y in range(H_ar.shape[2])])\\\n",
    "    .flatten().reshape(2*N,2*N)\n",
    "\n",
    "    return H_mat"
   ]
  },
  {
   "cell_type": "code",
   "execution_count": 8,
   "metadata": {},
   "outputs": [
    {
     "name": "stdout",
     "output_type": "stream",
     "text": [
      "[[ 0.020+0.j  0.001+0.j -0.010+0.j  0.000-0.j -0.005+0.j  0.000+0.j\n",
      "   0.000+0.j  0.000+0.j]\n",
      " [ 0.001+0.j -0.020+0.j  0.000-0.j  0.010+0.j  0.000+0.j  0.005+0.j\n",
      "   0.000+0.j  0.000+0.j]\n",
      " [-0.010-0.j  0.000+0.j  0.020+0.j  0.001+0.j  0.000+0.j  0.000+0.j\n",
      "  -0.005+0.j  0.000+0.j]\n",
      " [ 0.000+0.j  0.010-0.j  0.001+0.j -0.020+0.j  0.000+0.j  0.000+0.j\n",
      "   0.000+0.j  0.005+0.j]\n",
      " [-0.005+0.j  0.000+0.j  0.000+0.j  0.000+0.j  0.020+0.j  0.001+0.j\n",
      "  -0.010+0.j  0.000-0.j]\n",
      " [ 0.000+0.j  0.005+0.j  0.000+0.j  0.000+0.j  0.001+0.j -0.020+0.j\n",
      "   0.000-0.j  0.010+0.j]\n",
      " [ 0.000+0.j  0.000+0.j -0.005+0.j  0.000+0.j -0.010-0.j  0.000+0.j\n",
      "   0.020+0.j  0.001+0.j]\n",
      " [ 0.000+0.j  0.000+0.j  0.000+0.j  0.005+0.j  0.000+0.j  0.010-0.j\n",
      "   0.001+0.j -0.020+0.j]]\n"
     ]
    }
   ],
   "source": [
    "# test of the Hamiltonian function\n",
    "params = {\n",
    "    \"N_z\" : 2,\n",
    "    \"N_phi\" : 2,\n",
    "    \"flux\" : 0e0,\n",
    "    \"t_z\" : 5e-3,\n",
    "    \"Delta\" : 1e-3,\n",
    "    \"mu\" : 10e-3,\n",
    "}\n",
    "\n",
    "params[\"t_phi\"] = 5e-3*np.exp(1j*2*np.pi*params[\"flux\"]/params[\"N_phi\"])\n",
    "\n",
    "H = calc_Hamiltonian(params)\n",
    "print(H)"
   ]
  },
  {
   "cell_type": "code",
   "execution_count": null,
   "metadata": {
    "collapsed": true
   },
   "outputs": [],
   "source": []
  }
 ],
 "metadata": {
  "kernelspec": {
   "display_name": "Python 3",
   "language": "python",
   "name": "python3"
  },
  "language_info": {
   "codemirror_mode": {
    "name": "ipython",
    "version": 3
   },
   "file_extension": ".py",
   "mimetype": "text/x-python",
   "name": "python",
   "nbconvert_exporter": "python",
   "pygments_lexer": "ipython3",
   "version": "3.5.2"
  }
 },
 "nbformat": 4,
 "nbformat_minor": 2
}
