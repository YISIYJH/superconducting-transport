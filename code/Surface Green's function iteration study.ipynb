{
 "cells": [
  {
   "cell_type": "markdown",
   "metadata": {},
   "source": [
    "# Study of the iterative calculation of surface Green's function\n",
    "I will use this notebook to study the convergence properties of the surface Green's function and the problems associated with it because of a finite superconducting order parameter."
   ]
  },
  {
   "cell_type": "code",
   "execution_count": 221,
   "metadata": {},
   "outputs": [],
   "source": [
    "import numpy as np\n",
    "import matplotlib.pyplot as plt\n",
    "%matplotlib inline\n",
    "\n",
    "import scipy.optimize\n",
    "%load_ext line_profiler"
   ]
  },
  {
   "cell_type": "code",
   "execution_count": 268,
   "metadata": {},
   "outputs": [],
   "source": [
    "def calc_surface_g(E,alpha,beta,eta,eps=1e-8,max_iter=1000,kappa=0.5):\n",
    "    def func_g(g,E,alpha,beta,eta):\n",
    "        return np.linalg.inv((E + 1j*eta)*np.eye(alpha.shape[0])- alpha - beta @ g @ np.conj(beta).T)\n",
    "   \n",
    "    g0 = np.zeros(alpha.shape)\n",
    "    g = np.zeros(alpha.shape)\n",
    "    \n",
    "    err_vec = []\n",
    "    for i in range(max_iter):\n",
    "        g = func_g(g,E,alpha,beta,eta)\n",
    "        g = ((1-kappa)*g + kappa*g0)\n",
    "        err = np.linalg.norm(g - g0)\n",
    "        err_vec.append(err)\n",
    "        g0 = np.copy(g)\n",
    "        if err < eps:\n",
    "            break\n",
    "    return g,err_vec"
   ]
  },
  {
   "cell_type": "code",
   "execution_count": 269,
   "metadata": {
    "collapsed": true
   },
   "outputs": [],
   "source": [
    "t = 100e-3\n",
    "mu = 5e-3\n",
    "Delta = 1e-3\n",
    "alpha = np.array([[2*t - mu,Delta],[np.conj(Delta),-2*t + mu]])\n",
    "beta = np.array([[-t,0],[0,t]])\n",
    "\n",
    "E = 2e-3 \n",
    "eta = 1e-4"
   ]
  },
  {
   "cell_type": "code",
   "execution_count": 273,
   "metadata": {},
   "outputs": [
    {
     "name": "stdout",
     "output_type": "stream",
     "text": [
      "[[-9.67076974-2.90198431j -0.03648546-1.25601797j]\n",
      " [-0.03648546-1.25601797j  9.77603149-2.12938467j]]\n"
     ]
    },
    {
     "data": {
      "text/plain": [
       "<matplotlib.text.Text at 0x114504e80>"
      ]
     },
     "execution_count": 273,
     "metadata": {},
     "output_type": "execute_result"
    },
    {
     "data": {
      "image/png": "[encoded data removed]",
      "text/plain": [
       "<matplotlib.figure.Figure at 0x11db9d668>"
      ]
     },
     "metadata": {},
     "output_type": "display_data"
    }
   ],
   "source": [
    "%lprun -f calc_surface_g g,err_vec = calc_surface_g(E,alpha,beta,eta,max_iter=100000,kappa=0.5)\n",
    "print(g)\n",
    "plt.semilogy(err_vec)\n",
    "plt.ylabel('Error')\n",
    "plt.xlabel('Number of iterations')"
   ]
  },
  {
   "cell_type": "markdown",
   "metadata": {
    "collapsed": true
   },
   "source": [
    "# Notes\n",
    "- I am abandoning the solution on fixed point or root solvers, moving to recursion written by me; as correctness is more important than speed\n",
    "\n",
    "- The iterative method is not converging outside the gap; it converges if eta is set to a large value\n",
    "As the eta value is decreased, the number of iterations required to converge also increases.\n",
    "\n",
    "- time is 0.50s for eta = 1e-4 and eps = 1e-8 and takes about 4000 iterations\n",
    "\n",
    "- updating g = 0.5*(g + g0) improves time to 0.050s"
   ]
  },
  {
   "cell_type": "code",
   "execution_count": 272,
   "metadata": {},
   "outputs": [
    {
     "name": "stdout",
     "output_type": "stream",
     "text": [
      "0.1\n",
      "91.1 ms ± 2.23 ms per loop (mean ± std. dev. of 7 runs, 10 loops each)\n",
      "0.2\n",
      "67.1 ms ± 1.12 ms per loop (mean ± std. dev. of 7 runs, 10 loops each)\n",
      "0.3\n",
      "59.1 ms ± 3.16 ms per loop (mean ± std. dev. of 7 runs, 10 loops each)\n",
      "0.4\n",
      "58.6 ms ± 9.05 ms per loop (mean ± std. dev. of 7 runs, 10 loops each)\n",
      "0.5\n",
      "53.5 ms ± 1.56 ms per loop (mean ± std. dev. of 7 runs, 10 loops each)\n",
      "0.6\n",
      "63.8 ms ± 7.74 ms per loop (mean ± std. dev. of 7 runs, 10 loops each)\n",
      "0.7\n",
      "69.6 ms ± 6.29 ms per loop (mean ± std. dev. of 7 runs, 10 loops each)\n",
      "0.8\n",
      "89.2 ms ± 3.06 ms per loop (mean ± std. dev. of 7 runs, 10 loops each)\n",
      "0.9\n",
      "167 ms ± 15.5 ms per loop (mean ± std. dev. of 7 runs, 10 loops each)\n",
      "1.0\n",
      "67.4 µs ± 2.82 µs per loop (mean ± std. dev. of 7 runs, 10000 loops each)\n"
     ]
    }
   ],
   "source": [
    "for kappa in np.linspace(0.1,1,10):\n",
    "    print(kappa)\n",
    "    %timeit g,err_vec = calc_surface_g(E,alpha,beta,eta,max_iter=100000,kappa=kappa)"
   ]
  },
  {
   "cell_type": "code",
   "execution_count": null,
   "metadata": {
    "collapsed": true
   },
   "outputs": [],
   "source": []
  }
 ],
 "metadata": {
  "kernelspec": {
   "display_name": "Python 3",
   "language": "python",
   "name": "python3"
  },
  "language_info": {
   "codemirror_mode": {
    "name": "ipython",
    "version": 3
   },
   "file_extension": ".py",
   "mimetype": "text/x-python",
   "name": "python",
   "nbconvert_exporter": "python",
   "pygments_lexer": "ipython3",
   "version": "3.5.2"
  }
 },
 "nbformat": 4,
 "nbformat_minor": 2
}
