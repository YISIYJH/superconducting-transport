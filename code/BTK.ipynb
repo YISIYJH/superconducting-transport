{
 "cells": [
  {
   "cell_type": "markdown",
   "metadata": {},
   "source": [
    "# BTK\n",
    "I will use this notebook to model a Superconducting-Normal (SN) junction with a finite barrier present at the interface.\n",
    "\n",
    "**Goal** : Conductance-Voltage characteristics \n",
    "\n",
    "Steps:\n",
    "\n",
    "1. Define the Hamiltonian function for a one-dimensional region with a fixed pairing potential;\n",
    "\n",
    "2. Define the Hamiltonian function for a S - barrier - N junction\n",
    "\n",
    "3. Define the current calculation function using NEGF at T = 0\n"
   ]
  },
  {
   "cell_type": "code",
   "execution_count": 12,
   "metadata": {
    "collapsed": true
   },
   "outputs": [],
   "source": [
    "import numpy as np\n",
    "import matplotlib.pyplot as plt\n",
    "%matplotlib inline\n",
    "\n",
    "import itertools\n",
    "import scipy.optimize"
   ]
  },
  {
   "cell_type": "markdown",
   "metadata": {},
   "source": [
    "## 1 : Define the Hamiltonian for a 1d region"
   ]
  },
  {
   "cell_type": "code",
   "execution_count": 82,
   "metadata": {
    "collapsed": true
   },
   "outputs": [],
   "source": [
    "def calc_Hamiltonian(params):\n",
    "    '''\n",
    "    params is a dict with the following paramters:\n",
    "    N_z   : number of points in z \n",
    "    N_phi : number of points in azimuthal direction\n",
    "    t_z   : hopping paramter along z = hbar**2/(2 m a**2) where a is lattice spacing\n",
    "    t_phi : hopping paramter along phi = hbar**2/(2 m a_phi**2) where a_phi is lattice spacing along \n",
    "            azimuthal direction \n",
    "    Delta : order paramter (complex number)\n",
    "    mu    : chemical potential\n",
    "    flux  : flux in units of h/e\n",
    "    '''\n",
    "    N_z = params['N_z'] \n",
    "    N_phi = params['N_phi'] \n",
    "    t_z = params['t_z']\n",
    "    t_phi = params['t_phi']\n",
    "    Delta = params['Delta']\n",
    "    mu = params['mu']\n",
    "    flux = params['flux']\n",
    "    U = params['U']\n",
    "    \n",
    "    def matrix_ele(e1,e2):\n",
    "        '''\n",
    "        Returns the matrix element between points e1 and e2\n",
    "        '''\n",
    "        (z1,phi1) = e1\n",
    "        (z2,phi2) = e2\n",
    "        # onsite element\n",
    "        if z1 == z2 and phi1 == phi2:\n",
    "            if N_phi != 1:\n",
    "                diag_ele = 2*t_z + np.abs(t_phi)*(2 - (2*np.pi*flux/N_phi)**2) - mu + U\n",
    "            else:\n",
    "                # diagonal elemenet for N_phi = 1 does not make sense\n",
    "                diag_ele = 2*t_z - mu + U\n",
    "            return np.array([[diag_ele,Delta],[np.conj(Delta),-np.conj(diag_ele)]])\n",
    "        # z hopping\n",
    "        elif abs(z1-z2) == 1 and phi1 == phi2:\n",
    "            return np.array([[-t_z,0],[0,t_z]])\n",
    "        # phi hopping\n",
    "        elif (phi1-phi2 == 1 or phi1-phi2 == N_phi-1)and z1 == z2:\n",
    "            return np.array([[-t_phi,0],[0,np.conj(t_phi)]])\n",
    "        elif (phi1-phi2 == -1 or phi1-phi2 == -N_phi+1)and z1 == z2:\n",
    "            return np.conj(np.array([[-t_phi,0],[0,np.conj(t_phi)]])).T\n",
    "        else:\n",
    "            return np.array([[0,0],[0,0]])\n",
    "        \n",
    "    # the basis is given by (n_z,n_phi) where n_z = 0,..,N_z-1, n_phi = 0,...,N_phi-1\n",
    "    basis = list(itertools.product(range(N_z),range(N_phi)))\n",
    "    H = [matrix_ele(e1,e2) for e1 in basis for e2 in basis]\n",
    "    N = N_phi*N_z\n",
    "\n",
    "    H_ar = np.array(H,dtype=np.complex64).reshape((N,N,2,2))\n",
    "    \n",
    "    # magic to flatten the Hamiltonian\n",
    "    # Are you wathing closely?\n",
    "    H_mat = np.array([H_ar[x,:,y,:].flatten() for x in range(H_ar.shape[0]) for y in range(H_ar.shape[2])])\\\n",
    "    .flatten().reshape(2*N,2*N)\n",
    "\n",
    "    return H_mat"
   ]
  },
  {
   "cell_type": "markdown",
   "metadata": {},
   "source": [
    "## 2 : Define the surface Green's function calculation "
   ]
  },
  {
   "cell_type": "code",
   "execution_count": 50,
   "metadata": {
    "collapsed": true
   },
   "outputs": [],
   "source": [
    "def calc_surface_g(E,params,eps = 1e-8,max_iter=100000,kappa=0.5):\n",
    "    '''\n",
    "    Return the surface Green's function at energy E \n",
    "    eta is used to calculated the Green's function\n",
    "    eps controls the accuracy\n",
    "    '''\n",
    "    # conv here to avoid problems later\n",
    "    E = np.array(E)\n",
    "    \n",
    "    H = calc_Hamiltonian(params)   \n",
    "    eta = params['eta']\n",
    "    surface_dof = 2*params['N_phi']\n",
    "    alpha = H[:surface_dof,:surface_dof]\n",
    "    beta = H[:surface_dof,surface_dof:2*surface_dof]\n",
    "    \n",
    "    def func_g(g,E,alpha,beta,eta):\n",
    "        return np.linalg.inv((E + 1j*eta).reshape(-1,1,1)*np.eye(alpha.shape[0])- alpha - beta @ g @ np.conj(beta).T)\n",
    "   \n",
    "    g0 = np.zeros((len(E),alpha.shape[0],alpha.shape[1]))\n",
    "    g = np.zeros((len(E),alpha.shape[0],alpha.shape[1]))\n",
    "    \n",
    "    err_vec = []\n",
    "    for i in range(max_iter):\n",
    "        g = func_g(g,E,alpha,beta,eta)\n",
    "        g = ((1-kappa)*g + kappa*g0)\n",
    "        err = np.linalg.norm(g - g0)/len(E)\n",
    "        err_vec.append(err)\n",
    "        g0 = np.copy(g)\n",
    "        if err < eps:\n",
    "            break\n",
    "    return g\n"
   ]
  },
  {
   "cell_type": "markdown",
   "metadata": {},
   "source": [
    "## 3 : Define the current calculation function using NEGF"
   ]
  },
  {
   "cell_type": "code",
   "execution_count": 57,
   "metadata": {
    "collapsed": true
   },
   "outputs": [],
   "source": [
    "def calc_T(E,params):\n",
    "    if type(E) != np.ndarray:\n",
    "        E = np.array([E])\n",
    "    eta = params['eta']\n",
    "    N_z = params['N_z']\n",
    "    N_phi = params['N_phi']\n",
    "    mu_S = params['mu_S']\n",
    "    mu_N = params['mu_N']\n",
    "    flux = params['flux']\n",
    "    trans = params['trans']\n",
    "    \n",
    "    S_params = {\n",
    "        'N_z' : 2,\n",
    "        'N_phi' : N_phi,\n",
    "        'Delta' : params['Delta_S'],\n",
    "        'mu' : mu_S,\n",
    "        't_z' : params['t_z'],\n",
    "        't_phi' : params['t_phi'],\n",
    "        'flux' : flux,\n",
    "        'eta' : eta,\n",
    "        'U' : 0,\n",
    "    }\n",
    "    \n",
    "    barrier_params = {\n",
    "        'N_z' : N_z,\n",
    "        'N_phi' : N_phi,\n",
    "        'Delta' : 0,\n",
    "        'mu' : (mu_N + mu_S)/2,\n",
    "        't_z' : params['t_z'],\n",
    "        't_phi' : params['t_phi'],\n",
    "        'flux' : flux,\n",
    "        'eta' : eta,\n",
    "        'U' : params['U']\n",
    "    }\n",
    "    \n",
    "    N_params = {\n",
    "        'N_z' : 2,\n",
    "        'N_phi' : N_phi,\n",
    "        'Delta' : 0,\n",
    "        'mu' : mu_N,\n",
    "        't_z' : params['t_z'],\n",
    "        't_phi' : params['t_phi'],\n",
    "        'flux' : flux,\n",
    "        'eta' : eta,\n",
    "        'U' : 0,\n",
    "    }\n",
    "\n",
    "    g_1 = calc_surface_g(E,S_params,eta)\n",
    "    g_2 = calc_surface_g(E,N_params,eta)\n",
    "    \n",
    "    H_mat = calc_Hamiltonian(barrier_params)\n",
    "   \n",
    "    #number of dof in a layer\n",
    "    N_dof_lat = N_phi*2\n",
    "    # the hopping element between layers\n",
    "    beta_layer = H_mat[:N_dof_lat,N_dof_lat:2*N_dof_lat]\n",
    "    \n",
    "    # the only non-zero elements in sigma\n",
    "    sigma_mini_1 = np.conj(np.transpose(beta_layer[np.newaxis,:,:],(0,2,1)))@g_1@beta_layer\n",
    "    sigma_mini_2 = np.conj(np.transpose(beta_layer[np.newaxis,:,:],(0,2,1)))@g_2@beta_layer\n",
    "    \n",
    "    sigma_1 = np.zeros((len(E),H_mat.shape[0],H_mat.shape[1]),dtype=np.complex64)\n",
    "    sigma_1[:,:N_dof_lat,:N_dof_lat] = sigma_mini_1\n",
    "    \n",
    "    sigma_2 = np.zeros((len(E),H_mat.shape[0],H_mat.shape[1]),dtype=np.complex64)\n",
    "    sigma_2[:,-N_dof_lat:,-N_dof_lat:] = sigma_mini_2\n",
    "    \n",
    "    G = np.linalg.inv((E + 1j*eta).reshape(-1,1,1)*np.eye(H_mat.shape[0]) - H_mat - sigma_1 - sigma_2)\n",
    "    \n",
    "    A = 1j*(G - np.transpose(np.conj(G),(0,2,1)))\n",
    "    \n",
    "    Gamma_1 = 1j*(sigma_1 - np.transpose(np.conj(sigma_1),(0,2,1)))\n",
    "    Gamma_2 = 1j*(sigma_2 - np.transpose(np.conj(sigma_2),(0,2,1)))\n",
    "    \n",
    "    G = np.linalg.inv((E + 1j*eta).reshape(-1,1,1)*np.eye(H_mat.shape[0]).reshape(1,H_mat.shape[0],H_mat.shape[1])\n",
    "                      - H_mat - trans*sigma_1 - trans*sigma_2)\n",
    " \n",
    "    T = np.real(np.trace(Gamma_1 @ G @ Gamma_2 @ np.transpose(np.conj(G),(0,2,1)),axis1=-1,axis2=-2)) \n",
    "    return T\n",
    "    "
   ]
  },
  {
   "cell_type": "code",
   "execution_count": 151,
   "metadata": {
    "collapsed": true
   },
   "outputs": [],
   "source": [
    "def calc_supercurrent(E,params):\n",
    "    if type(E) != np.ndarray:\n",
    "        E = np.array([E])\n",
    "    eta = params['eta']\n",
    "    N_z = params['N_z']\n",
    "    N_phi = params['N_phi']\n",
    "    mu_S = params['mu_S']\n",
    "    mu_N = params['mu_N']\n",
    "    mu_barrier =0.5*(mu_S + mu_N)\n",
    "    flux = params['flux']\n",
    "    trans = params['trans']\n",
    "    kT = params['kT']\n",
    "    \n",
    "    \n",
    "    S_params = {\n",
    "        'N_z' : 2,\n",
    "        'N_phi' : N_phi,\n",
    "        'Delta' : params['Delta_S'],\n",
    "        'mu' : mu_S,\n",
    "        't_z' : params['t_z'],\n",
    "        't_phi' : params['t_phi'],\n",
    "        'flux' : flux,\n",
    "        'eta' : eta,\n",
    "        'U' : 0,\n",
    "    }\n",
    "    \n",
    "    barrier_params = {\n",
    "        'N_z' : N_z,\n",
    "        'N_phi' : N_phi,\n",
    "        'Delta' : 0,\n",
    "        'mu' : mu_barrier,\n",
    "        't_z' : params['t_z'],\n",
    "        't_phi' : params['t_phi'],\n",
    "        'flux' : flux,\n",
    "        'eta' : eta,\n",
    "        'U' : params['U']\n",
    "    }\n",
    "    \n",
    "    N_params = {\n",
    "        'N_z' : 2,\n",
    "        'N_phi' : N_phi,\n",
    "        'Delta' : 0,\n",
    "        'mu' : mu_N,\n",
    "        't_z' : params['t_z'],\n",
    "        't_phi' : params['t_phi'],\n",
    "        'flux' : flux,\n",
    "        'eta' : eta,\n",
    "        'U' : 0,\n",
    "    }\n",
    "\n",
    "    g_1 = calc_surface_g(E,S_params,eta)\n",
    "    g_2 = calc_surface_g(E,N_params,eta)\n",
    "    \n",
    "    H_mat = calc_Hamiltonian(barrier_params)\n",
    "   \n",
    "    #number of dof in a layer\n",
    "    N_dof_lat = N_phi*2\n",
    "    # the hopping element between layers\n",
    "    beta_layer = H_mat[:N_dof_lat,N_dof_lat:2*N_dof_lat]\n",
    "    \n",
    "    # the only non-zero elements in sigma\n",
    "    sigma_mini_1 = np.conj(np.transpose(beta_layer[np.newaxis,:,:],(0,2,1)))@g_1@beta_layer\n",
    "    sigma_mini_2 = np.conj(np.transpose(beta_layer[np.newaxis,:,:],(0,2,1)))@g_2@beta_layer\n",
    "    \n",
    "    sigma_1 = np.zeros((len(E),H_mat.shape[0],H_mat.shape[1]),dtype=np.complex64)\n",
    "    sigma_1[:,:N_dof_lat,:N_dof_lat] = sigma_mini_1\n",
    "    \n",
    "    sigma_2 = np.zeros((len(E),H_mat.shape[0],H_mat.shape[1]),dtype=np.complex64)\n",
    "    sigma_2[:,-N_dof_lat:,-N_dof_lat:] = sigma_mini_2\n",
    "    \n",
    "    G = np.linalg.inv((E + 1j*eta).reshape(-1,1,1)*np.eye(H_mat.shape[0]) - H_mat - sigma_1 - sigma_2)\n",
    "    \n",
    "    A = 1j*(G - np.transpose(np.conj(G),(0,2,1)))\n",
    "    \n",
    "    gamma_1 = 1j*(sigma_1 - np.transpose(np.conj(sigma_1),(0,2,1)))\n",
    "    gamma_2 = 1j*(sigma_2 - np.transpose(np.conj(sigma_2),(0,2,1)))\n",
    "    \n",
    "    def fermi(E,kT):\n",
    "        return scipy.special.expit(-E/kT)\n",
    "    \n",
    "    def generate_fermi_matrix(E,mu,kT):\n",
    "        res = np.array([np.array([[fermi(ele - mu,kT),0],[0,fermi(ele + mu,kT)]]) for ele in E])\n",
    "        return res\n",
    "        \n",
    "    F1 = np.kron(np.eye(N_z*N_phi),generate_fermi_matrix(E,mu_S-mu_barrier,kT)).reshape(-1,gamma_1.shape[1],gamma_1.shape[2])\n",
    "    F2 = np.kron(np.eye(N_z*N_phi),generate_fermi_matrix(E,mu_N-mu_barrier,kT)).reshape(-1,gamma_2.shape[1],gamma_2.shape[2])\n",
    "   \n",
    "\n",
    "    sigma_in = gamma_1@F1 + gamma_2@F2\n",
    "\n",
    "    G = np.linalg.inv((E + 1j*eta).reshape(-1,1,1)*np.eye(H_mat.shape[0]) - H_mat - sigma_1 - sigma_2)\n",
    "    \n",
    "    A = 1j*(G - np.transpose(np.conj(G),(0,2,1)))\n",
    "\n",
    "    G_n = G@sigma_in@np.transpose(np.conj(G),(0,2,1))\n",
    "    \n",
    "    I_mat = 1j*(G_n[:,:N_dof_lat,N_dof_lat:2*N_dof_lat]@beta_layer \\\n",
    "            - G_n[:,N_dof_lat:2*N_dof_lat,:N_dof_lat]@beta_layer)\n",
    "    # current = electron current - hole current\n",
    "    I = np.real(I_mat[:,0,0] - I_mat[:,1,1]) \n",
    "    return I"
   ]
  },
  {
   "cell_type": "code",
   "execution_count": 141,
   "metadata": {},
   "outputs": [],
   "source": [
    "# testing of T vs E calculation\n",
    "bias = 10e-3\n",
    "params = {\n",
    "    'N_z' : 10,\n",
    "    'N_phi' : 1,\n",
    "    'flux' : 0,\n",
    "    't_z' : 100e-3,\n",
    "    'Delta_S' : 1e-3,\n",
    "    'mu_S' : 20e-3 + bias/2,\n",
    "    'mu_N' : 20e-3 - bias/2,\n",
    "    'trans' : 1.0,\n",
    "    'U' : 0,\n",
    "}\n",
    "params['t_phi'] = 0e-3*np.exp(1j*2*np.pi*params['flux']/params['N_phi'])\n",
    "\n",
    "E_vec = np.linspace(-params['mu_N'],params['mu_N'],100)\n",
    "eta = 0.1*(E_vec[1] - E_vec[0])\n",
    "\n",
    "params['eta'] = eta\n",
    "T_vec = calc_T(E_vec,params)"
   ]
  },
  {
   "cell_type": "code",
   "execution_count": 142,
   "metadata": {},
   "outputs": [
    {
     "data": {
      "text/plain": [
       "<matplotlib.text.Text at 0x114531ba8>"
      ]
     },
     "execution_count": 142,
     "metadata": {},
     "output_type": "execute_result"
    },
    {
     "data": {
      "image/png": "[encoded data removed]",
      "text/plain": [
       "<matplotlib.figure.Figure at 0x113186f28>"
      ]
     },
     "metadata": {},
     "output_type": "display_data"
    }
   ],
   "source": [
    "plt.figure(1)\n",
    "plt.plot(E_vec,T_vec)\n",
    "plt.xlabel('Energy')\n",
    "plt.ylabel('Transmission')"
   ]
  },
  {
   "cell_type": "code",
   "execution_count": 163,
   "metadata": {},
   "outputs": [
    {
     "data": {
      "text/plain": [
       "<matplotlib.text.Text at 0x114154a20>"
      ]
     },
     "execution_count": 163,
     "metadata": {},
     "output_type": "execute_result"
    },
    {
     "data": {
      "image/png": "[encoded data removed]",
      "text/plain": [
       "<matplotlib.figure.Figure at 0x113fa0278>"
      ]
     },
     "metadata": {},
     "output_type": "display_data"
    }
   ],
   "source": [
    "# testing of supercurrent vs E calculation\n",
    "bias = -6e-3\n",
    "params = {\n",
    "    'N_z' : 2,\n",
    "    'N_phi' : 1,\n",
    "    'flux' : 0,\n",
    "    't_z' : 100e-3,\n",
    "    'Delta_S' : 1e-3,\n",
    "    'mu_S' : 20e-3 + bias/2,\n",
    "    'mu_N' : 20e-3 - bias/2,\n",
    "    'trans' : 1.0,\n",
    "    'U' : 0,\n",
    "    'kT' : 1e-5,\n",
    "}\n",
    "params['t_phi'] = 0e-3*np.exp(1j*2*np.pi*params['flux']/params['N_phi'])\n",
    "E_vec = np.linspace(-params['mu_N'],params['mu_N'],100)\n",
    "E_vec = np.linspace(-2*bias,2*bias,100)\n",
    "eta = 0.1*(E_vec[1] - E_vec[0])\n",
    "params['eta'] = eta\n",
    "supercurrent_vec = calc_supercurrent(E_vec,params)\n",
    "\n",
    "plt.figure(1)\n",
    "plt.plot(E_vec,supercurrent_vec)\n",
    "plt.xlabel('Energy')\n",
    "plt.ylabel('super current')"
   ]
  },
  {
   "cell_type": "markdown",
   "metadata": {},
   "source": [
    "## Results\n",
    "- Current vs bias\n",
    "- Conductance vs bias"
   ]
  },
  {
   "cell_type": "code",
   "execution_count": 144,
   "metadata": {
    "collapsed": true
   },
   "outputs": [],
   "source": [
    "def calc_current(params):\n",
    "    '''\n",
    "    Calculates the current for given bias inferred from params\n",
    "    '''\n",
    "    bias = params['mu_S'] - params['mu_N']\n",
    "    current = scipy.integrate.quad(calc_T,-bias,bias,args=(params),epsrel=1e-4)\n",
    "    return current\n",
    "def calc_supercurrent_integrate(params):\n",
    "    '''\n",
    "    Calculates the current for given bias inferred from params\n",
    "    '''\n",
    "    bias = params['mu_S'] - params['mu_N']\n",
    "    current = scipy.integrate.quad(calc_supercurrent,-bias,bias,args=(params),epsrel=1e-4)\n",
    "    return current"
   ]
  },
  {
   "cell_type": "code",
   "execution_count": 91,
   "metadata": {},
   "outputs": [
    {
     "name": "stdout",
     "output_type": "stream",
     "text": [
      "-0.002\n",
      "-0.00178947368421\n",
      "-0.00157894736842\n",
      "-0.00136842105263\n",
      "-0.00115789473684\n",
      "-0.000947368421053\n",
      "-0.000736842105263\n",
      "-0.000526315789474\n",
      "-0.000315789473684\n",
      "-0.000105263157895\n",
      "0.000105263157895\n",
      "0.000315789473684\n",
      "0.000526315789474\n",
      "0.000736842105263\n",
      "0.000947368421053\n",
      "0.00115789473684\n",
      "0.00136842105263\n",
      "0.00157894736842\n",
      "0.00178947368421\n",
      "0.002\n"
     ]
    }
   ],
   "source": [
    "mu_eq_S = 10e-3\n",
    "mu_eq_N = 10e-3\n",
    "params = {\n",
    "    'N_z' : 2,\n",
    "    'N_phi' : 1,\n",
    "    'flux' : 0,\n",
    "    't_z' : 100e-3,\n",
    "    'Delta_S' : 1e-3,\n",
    "    'trans' : 1,\n",
    "    'U' : 0e-3,\n",
    "}\n",
    "params['t_phi'] = 0e-3*np.exp(1j*2*np.pi*params['flux']/params['N_phi'])\n",
    "params['eta'] = 1e-5\n",
    "\n",
    "bias_vec = np.linspace(-2e-3,2e-3,20)\n",
    "current_vec = []\n",
    "for bias in bias_vec:\n",
    "    print(bias)\n",
    "    params['mu_S'] = mu_eq_S + bias/2\n",
    "    params['mu_N'] = mu_eq_N - bias/2 \n",
    "    current_vec.append(calc_current(params)[0])\n",
    "current_vec = np.array(current_vec)"
   ]
  },
  {
   "cell_type": "code",
   "execution_count": 92,
   "metadata": {},
   "outputs": [
    {
     "data": {
      "text/plain": [
       "<matplotlib.text.Text at 0x10c1de390>"
      ]
     },
     "execution_count": 92,
     "metadata": {},
     "output_type": "execute_result"
    },
    {
     "data": {
      "image/png": "[encoded data removed]",
      "text/plain": [
       "<matplotlib.figure.Figure at 0x112e82710>"
      ]
     },
     "metadata": {},
     "output_type": "display_data"
    },
    {
     "data": {
      "image/png": "[encoded data removed]",
      "text/plain": [
       "<matplotlib.figure.Figure at 0x113186588>"
      ]
     },
     "metadata": {},
     "output_type": "display_data"
    }
   ],
   "source": [
    "plt.figure(1)\n",
    "plt.plot(bias_vec,current_vec)\n",
    "plt.xlabel('bias')\n",
    "plt.ylabel('Current')\n",
    "plt.figure(2)\n",
    "plt.plot(bias_vec,np.gradient(current_vec))\n",
    "plt.xlabel('bias')\n",
    "plt.ylabel('Conductance')"
   ]
  },
  {
   "cell_type": "code",
   "execution_count": 164,
   "metadata": {},
   "outputs": [
    {
     "name": "stdout",
     "output_type": "stream",
     "text": [
      "-0.004\n",
      "-0.00383673469388\n",
      "-0.00367346938776\n",
      "-0.00351020408163\n",
      "-0.00334693877551\n",
      "-0.00318367346939\n",
      "-0.00302040816327\n",
      "-0.00285714285714\n",
      "-0.00269387755102\n",
      "-0.0025306122449\n",
      "-0.00236734693878\n",
      "-0.00220408163265\n",
      "-0.00204081632653\n",
      "-0.00187755102041\n",
      "-0.00171428571429\n",
      "-0.00155102040816\n",
      "-0.00138775510204\n",
      "-0.00122448979592\n",
      "-0.0010612244898\n",
      "-0.000897959183673\n",
      "-0.000734693877551\n",
      "-0.000571428571429\n",
      "-0.000408163265306\n",
      "-0.000244897959184\n",
      "-8.16326530612e-05\n",
      "8.16326530612e-05\n",
      "0.000244897959184\n",
      "0.000408163265306\n",
      "0.000571428571429\n",
      "0.000734693877551\n",
      "0.000897959183673\n",
      "0.0010612244898\n",
      "0.00122448979592\n",
      "0.00138775510204\n",
      "0.00155102040816\n",
      "0.00171428571429\n",
      "0.00187755102041\n",
      "0.00204081632653\n",
      "0.00220408163265\n",
      "0.00236734693878\n",
      "0.0025306122449\n",
      "0.00269387755102\n",
      "0.00285714285714\n",
      "0.00302040816327\n",
      "0.00318367346939\n",
      "0.00334693877551\n",
      "0.00351020408163\n",
      "0.00367346938776\n",
      "0.00383673469388\n",
      "0.004\n"
     ]
    }
   ],
   "source": [
    "mu_eq_S = 10e-3\n",
    "mu_eq_N = 10e-3\n",
    "params = {\n",
    "    'N_z' : 2,\n",
    "    'N_phi' : 1,\n",
    "    'flux' : 0,\n",
    "    't_z' : 100e-3,\n",
    "    'Delta_S' : 1e-3,\n",
    "    'trans' : 1,\n",
    "    'U' : 0e-3,\n",
    "    'kT' : 1e-5,\n",
    "}\n",
    "params['t_phi'] = 0e-3*np.exp(1j*2*np.pi*params['flux']/params['N_phi'])\n",
    "params['eta'] = 1e-5\n",
    "\n",
    "bias_vec = np.linspace(-4e-3,4e-3,50)\n",
    "current_vec = []\n",
    "for bias in bias_vec:\n",
    "    print(bias)\n",
    "    params['mu_S'] = mu_eq_S + bias/2\n",
    "    params['mu_N'] = mu_eq_N - bias/2 \n",
    "    current_vec.append(calc_supercurrent_integrate(params)[0])\n",
    "current_vec = np.array(current_vec)"
   ]
  },
  {
   "cell_type": "code",
   "execution_count": 165,
   "metadata": {},
   "outputs": [
    {
     "data": {
      "text/plain": [
       "<matplotlib.text.Text at 0x114dd7cc0>"
      ]
     },
     "execution_count": 165,
     "metadata": {},
     "output_type": "execute_result"
    },
    {
     "data": {
      "image/png": "[encoded data removed]",
      "text/plain": [
       "<matplotlib.figure.Figure at 0x11407dc88>"
      ]
     },
     "metadata": {},
     "output_type": "display_data"
    },
    {
     "data": {
      "image/png": "[encoded data removed]",
      "text/plain": [
       "<matplotlib.figure.Figure at 0x114267240>"
      ]
     },
     "metadata": {},
     "output_type": "display_data"
    }
   ],
   "source": [
    "plt.figure(1)\n",
    "plt.plot(bias_vec,current_vec)\n",
    "plt.xlabel('bias')\n",
    "plt.ylabel('Current')\n",
    "plt.figure(2)\n",
    "plt.plot(bias_vec,np.gradient(current_vec,bias_vec[1]-bias_vec[0]))\n",
    "plt.xlabel('bias')\n",
    "plt.ylabel('Conductance')"
   ]
  },
  {
   "cell_type": "code",
   "execution_count": null,
   "metadata": {
    "collapsed": true
   },
   "outputs": [],
   "source": []
  }
 ],
 "metadata": {
  "kernelspec": {
   "display_name": "Python 3",
   "language": "python",
   "name": "python3"
  },
  "language_info": {
   "codemirror_mode": {
    "name": "ipython",
    "version": 3
   },
   "file_extension": ".py",
   "mimetype": "text/x-python",
   "name": "python",
   "nbconvert_exporter": "python",
   "pygments_lexer": "ipython3",
   "version": "3.5.2"
  }
 },
 "nbformat": 4,
 "nbformat_minor": 2
}
